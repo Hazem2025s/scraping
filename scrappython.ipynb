{
 "cells": [
  {
   "cell_type": "code",
   "execution_count": 2,
   "metadata": {},
   "outputs": [],
   "source": [
    "from bs4 import BeautifulSoup\n",
    "import requests\n",
    "import csv"
   ]
  },
  {
   "cell_type": "markdown",
   "metadata": {},
   "source": [
    "#### Scrape 250 countries\n"
   ]
  },
  {
   "cell_type": "code",
   "execution_count": 3,
   "metadata": {},
   "outputs": [
    {
     "data": {
      "text/plain": [
       "200"
      ]
     },
     "execution_count": 3,
     "metadata": {},
     "output_type": "execute_result"
    }
   ],
   "source": [
    "respopnse = requests.get(\"https://www.scrapethissite.com/pages/simple/\")\n",
    "respopnse.status_code"
   ]
  },
  {
   "cell_type": "code",
   "execution_count": 5,
   "metadata": {},
   "outputs": [],
   "source": [
    "data = BeautifulSoup(respopnse.text, 'html.parser')\n"
   ]
  },
  {
   "cell_type": "code",
   "execution_count": 6,
   "metadata": {},
   "outputs": [
    {
     "data": {
      "text/plain": [
       "250"
      ]
     },
     "execution_count": 6,
     "metadata": {},
     "output_type": "execute_result"
    }
   ],
   "source": [
    "len(data.find_all('h3','country-name'))"
   ]
  },
  {
   "cell_type": "code",
   "execution_count": 7,
   "metadata": {},
   "outputs": [],
   "source": [
    "with open('scraping1.csv', 'w',newline='') as file:\n",
    "    writer = csv.DictWriter(file,fieldnames= ['country','capital','population','area'])\n",
    "    writer.writeheader()\n",
    "    \n",
    "    for country in data.find_all('div','col-md-4 country'):\n",
    "        country_name = country.find('h3','country-name').text.strip()\n",
    "        Capital = country.find('span','country-capital').text.strip()\n",
    "        population = country.find('span','country-population').text.strip()\n",
    "        area = country.find('span','country-area').text.strip()\n",
    "        \n",
    "        writer.writerow({'country': country_name, 'capital': Capital, 'population': population, 'area': area})\n",
    "        "
   ]
  },
  {
   "cell_type": "markdown",
   "metadata": {},
   "source": [
    "# Task 2 Hockey teams"
   ]
  },
  {
   "cell_type": "code",
   "execution_count": 8,
   "metadata": {},
   "outputs": [
    {
     "data": {
      "text/plain": [
       "200"
      ]
     },
     "execution_count": 8,
     "metadata": {},
     "output_type": "execute_result"
    }
   ],
   "source": [
    "res1 = requests.get(\"https://www.scrapethissite.com/pages/forms/?page_num=1\")\n",
    "res1.status_code\n"
   ]
  },
  {
   "cell_type": "code",
   "execution_count": 10,
   "metadata": {},
   "outputs": [],
   "source": [
    "data1 = BeautifulSoup(res1.text,'html.parser')\n"
   ]
  },
  {
   "cell_type": "code",
   "execution_count": 11,
   "metadata": {},
   "outputs": [
    {
     "data": {
      "text/plain": [
       "'Boston Bruins'"
      ]
     },
     "execution_count": 11,
     "metadata": {},
     "output_type": "execute_result"
    }
   ],
   "source": [
    "data1.find('td','name').text.strip()"
   ]
  },
  {
   "cell_type": "code",
   "execution_count": 12,
   "metadata": {},
   "outputs": [],
   "source": [
    "with open('Hockey.csv', 'w', newline='') as file:\n",
    "    \n",
    "    writer = csv.DictWriter(file,fieldnames = ['Team Name', 'Year', 'Wins', 'Losses', 'Win%', 'Goals For (GF)', 'Goals Against (GA)'])\n",
    "    writer.writeheader()\n",
    "\n",
    "    for team in data1.find_all('tr', 'team'):\n",
    "        team_name = team.find('td', 'name').text.strip()\n",
    "        year = team.find('td', 'year').text.strip()\n",
    "        wins = team.find('td', 'wins').text.strip()\n",
    "        losses = team.find('td','losses').text.strip()\n",
    "        win_percent = team.find('td', 'pct').text.strip()\n",
    "        gf = team.find('td','gf').text.strip()\n",
    "        ga = team.find('td', 'ga').text.strip()\n",
    "\n",
    "        writer.writerow({\n",
    "            'Team Name': team_name,\n",
    "            'Year': year,\n",
    "            'Wins': wins,\n",
    "            'Losses': losses,\n",
    "            'Win%': win_percent,\n",
    "            'Goals For (GF)': gf,\n",
    "            'Goals Against (GA)': ga  \n",
    "            })\n",
    "        \n",
    "        \n",
    "        \n",
    "    \n",
    "   "
   ]
  }
 ],
 "metadata": {
  "kernelspec": {
   "display_name": "Data_A",
   "language": "python",
   "name": "python3"
  },
  "language_info": {
   "codemirror_mode": {
    "name": "ipython",
    "version": 3
   },
   "file_extension": ".py",
   "mimetype": "text/x-python",
   "name": "python",
   "nbconvert_exporter": "python",
   "pygments_lexer": "ipython3",
   "version": "3.13.0"
  }
 },
 "nbformat": 4,
 "nbformat_minor": 2
}
